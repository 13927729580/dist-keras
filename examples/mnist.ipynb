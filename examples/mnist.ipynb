{
 "cells": [
  {
   "cell_type": "markdown",
   "metadata": {},
   "source": [
    "# MNIST using Distributed Keras\n",
    "\n",
    "**Joeri Hermans** (Technical Student, IT-DB-SAS, CERN)             \n",
    "*Departement of Knowledge Engineering*         \n",
    "*Maastricht University, The Netherlands*"
   ]
  },
  {
   "cell_type": "code",
   "execution_count": 1,
   "metadata": {
    "collapsed": false
   },
   "outputs": [
    {
     "name": "stdout",
     "output_type": "stream",
     "text": [
      "23 January 2017\r\n"
     ]
    }
   ],
   "source": [
    "!(date +%d\\ %B\\ %G)"
   ]
  },
  {
   "cell_type": "markdown",
   "metadata": {},
   "source": [
    "In this notebook we will show you how to process the [MNIST](http://yann.lecun.com/exdb/mnist/) dataset using Distributed Keras. As in the [workflow](https://github.com/JoeriHermans/dist-keras/blob/master/examples/workflow.ipynb) notebook, we will guide you through the complete machine learning pipeline.\n",
    "\n",
    "## Preparation\n",
    "\n",
    "To get started, we first load all the required imports. Please make sure you installed `dist-keras`, and `seaborn`. Furthermore, we assume that you have access to an installation which provides Apache Spark.\n",
    "\n",
    "Before you start this notebook, place the MNIST dataset (which is provided in this repository) on HDFS. Or in the case HDFS is not available, place it on the local filesystem. But make sure the path to the file is identical for all computing nodes."
   ]
  },
  {
   "cell_type": "code",
   "execution_count": 72,
   "metadata": {
    "collapsed": false
   },
   "outputs": [],
   "source": [
    "%matplotlib inline\n",
    "\n",
    "import numpy as np\n",
    "\n",
    "import seaborn as sns\n",
    "\n",
    "from keras.optimizers import *\n",
    "from keras.models import Sequential\n",
    "from keras.layers.core import *\n",
    "from keras.layers.convolutional import *\n",
    "\n",
    "from pyspark import SparkContext\n",
    "from pyspark import SparkConf\n",
    "\n",
    "from matplotlib import pyplot as plt\n",
    "import matplotlib.patches as mpatches\n",
    "\n",
    "from pyspark.ml.feature import StandardScaler\n",
    "from pyspark.ml.feature import VectorAssembler\n",
    "from pyspark.ml.feature import OneHotEncoder\n",
    "from pyspark.ml.feature import MinMaxScaler\n",
    "from pyspark.ml.feature import StringIndexer\n",
    "from pyspark.ml.evaluation import MulticlassClassificationEvaluator\n",
    "\n",
    "from distkeras.trainers import *\n",
    "from distkeras.predictors import *\n",
    "from distkeras.transformers import *\n",
    "from distkeras.evaluators import *\n",
    "from distkeras.utils import *"
   ]
  },
  {
   "cell_type": "markdown",
   "metadata": {},
   "source": [
    "In the following cell, adapt the parameters to fit your personal requirements."
   ]
  },
  {
   "cell_type": "code",
   "execution_count": 3,
   "metadata": {
    "collapsed": true
   },
   "outputs": [],
   "source": [
    "# Modify these variables according to your needs.\n",
    "application_name = \"Distributed Keras MNIST Notebook\"\n",
    "using_spark_2 = False\n",
    "local = False\n",
    "path_train = \"data/mnist_train.csv\"\n",
    "path_test = \"data/mnist_test.csv\"\n",
    "if local:\n",
    "    # Tell master to use local resources.\n",
    "    master = \"local[*]\"\n",
    "    num_processes = 3\n",
    "    num_executors = 1\n",
    "else:\n",
    "    # Tell master to use YARN.\n",
    "    master = \"yarn-client\"\n",
    "    num_executors = 20\n",
    "    num_processes = 1"
   ]
  },
  {
   "cell_type": "code",
   "execution_count": 4,
   "metadata": {
    "collapsed": false
   },
   "outputs": [
    {
     "name": "stdout",
     "output_type": "stream",
     "text": [
      "Number of desired executors: 20\n",
      "Number of desired processes / executor: 1\n",
      "Total number of workers: 20\n"
     ]
    }
   ],
   "source": [
    "# This variable is derived from the number of cores and executors, and will be used to assign the number of model trainers.\n",
    "num_workers = num_executors * num_processes\n",
    "\n",
    "print(\"Number of desired executors: \" + `num_executors`)\n",
    "print(\"Number of desired processes / executor: \" + `num_processes`)\n",
    "print(\"Total number of workers: \" + `num_workers`)"
   ]
  },
  {
   "cell_type": "code",
   "execution_count": 5,
   "metadata": {
    "collapsed": true
   },
   "outputs": [],
   "source": [
    "import os\n",
    "\n",
    "# Use the DataBricks CSV reader, this has some nice functionality regarding invalid values.\n",
    "os.environ['PYSPARK_SUBMIT_ARGS'] = '--packages com.databricks:spark-csv_2.10:1.4.0 pyspark-shell'"
   ]
  },
  {
   "cell_type": "code",
   "execution_count": 6,
   "metadata": {
    "collapsed": false
   },
   "outputs": [],
   "source": [
    "conf = SparkConf()\n",
    "conf.set(\"spark.app.name\", application_name)\n",
    "conf.set(\"spark.master\", master)\n",
    "conf.set(\"spark.executor.cores\", `num_processes`)\n",
    "conf.set(\"spark.executor.instances\", `num_executors`)\n",
    "conf.set(\"spark.executor.memory\", \"4g\")\n",
    "conf.set(\"spark.locality.wait\", \"0\")\n",
    "conf.set(\"spark.serializer\", \"org.apache.spark.serializer.KryoSerializer\");\n",
    "\n",
    "# Check if the user is running Spark 2.0 +\n",
    "if using_spark_2:\n",
    "    sc = SparkSession.builder.config(conf=conf) \\\n",
    "            .appName(application_name) \\\n",
    "            .getOrCreate()\n",
    "else:\n",
    "    # Create the Spark context.\n",
    "    sc = SparkContext(conf=conf)\n",
    "    # Add the missing imports\n",
    "    from pyspark import SQLContext\n",
    "    sqlContext = SQLContext(sc)"
   ]
  },
  {
   "cell_type": "code",
   "execution_count": 7,
   "metadata": {
    "collapsed": false
   },
   "outputs": [],
   "source": [
    "# Check if we are using Spark 2.0\n",
    "if using_spark_2:\n",
    "    reader = sc\n",
    "else:\n",
    "    reader = sqlContext\n",
    "# Read the training dataset.\n",
    "raw_dataset_train = reader.read.format('com.databricks.spark.csv') \\\n",
    "                          .options(header='true', inferSchema='true') \\\n",
    "                          .load(path_train)\n",
    "# Read the testing dataset.\n",
    "raw_dataset_test = reader.read.format('com.databricks.spark.csv') \\\n",
    "                         .options(header='true', inferSchema='true') \\\n",
    "                         .load(path_test)"
   ]
  },
  {
   "cell_type": "markdown",
   "metadata": {},
   "source": [
    "As shown in the output of the cell above, we see that every pixel is associated with a seperate column. In order to ensure compatibility with Apache Spark, we vectorize the columns, and add the resulting vectors as a seperate column. However, in order to achieve this, we first need a list of the required columns. This is shown in the cell below."
   ]
  },
  {
   "cell_type": "code",
   "execution_count": 8,
   "metadata": {
    "collapsed": false
   },
   "outputs": [],
   "source": [
    "# First, we would like to extract the desired features from the raw dataset.\n",
    "# We do this by constructing a list with all desired columns.\n",
    "# This is identical for the test set.\n",
    "features = raw_dataset_train.columns\n",
    "features.remove('label')"
   ]
  },
  {
   "cell_type": "markdown",
   "metadata": {},
   "source": [
    "Once we have a list of columns names, we can pass this to Spark's [VectorAssembler](http://spark.apache.org/docs/latest/ml-features.html#vectorassembler). This VectorAssembler will take a list of features, vectorize them, and place them in a column defined in `outputCol`."
   ]
  },
  {
   "cell_type": "code",
   "execution_count": 9,
   "metadata": {
    "collapsed": false
   },
   "outputs": [],
   "source": [
    "# Next, we use Spark's VectorAssembler to \"assemble\" (create) a vector of all desired features.\n",
    "# http://spark.apache.org/docs/latest/ml-features.html#vectorassembler\n",
    "vector_assembler = VectorAssembler(inputCols=features, outputCol=\"features\")\n",
    "# This transformer will take all columns specified in features, and create an additional column \"features\" which will contain all the desired features aggregated into a single vector.\n",
    "dataset_train = vector_assembler.transform(raw_dataset_train)\n",
    "dataset_test = vector_assembler.transform(raw_dataset_test)"
   ]
  },
  {
   "cell_type": "markdown",
   "metadata": {},
   "source": [
    "Once we have the inputs for our Neural Network (features column) after applying the VectorAssembler, we should also define the outputs. Since we are dealing with a classification task, the output of our Neural Network should be a one-hot encoded vector with 10 elements. For this, we provide a `OneHotTransformer` which accomplish this exact task."
   ]
  },
  {
   "cell_type": "code",
   "execution_count": 10,
   "metadata": {
    "collapsed": false
   },
   "outputs": [],
   "source": [
    "# Define the number of output classes.\n",
    "nb_classes = 10\n",
    "encoder = OneHotTransformer(nb_classes, input_col=\"label\", output_col=\"label_encoded\")\n",
    "dataset_train = encoder.transform(dataset_train)\n",
    "dataset_test = encoder.transform(dataset_test)"
   ]
  },
  {
   "cell_type": "markdown",
   "metadata": {},
   "source": [
    "## MNIST\n",
    "\n",
    "[MNIST](http://yann.lecun.com/exdb/mnist/) is a dataset of handwritten digits. Every image is a 28 by 28 pixel grayscale image. This means that every pixel has a value between 0 and 255. Some examples of instances within this dataset are shown in the cells below."
   ]
  },
  {
   "cell_type": "code",
   "execution_count": 11,
   "metadata": {
    "collapsed": true
   },
   "outputs": [],
   "source": [
    "def show_instances(column):\n",
    "    global dataset\n",
    "\n",
    "    num_instances = 6 # Number of instances you would like to draw.\n",
    "    x_dimension   = 3 # Number of images to draw on the x-axis.\n",
    "    y_dimension   = 2 # Number of images to draw on the y-axis.\n",
    "\n",
    "    # Fetch 3 different instance from the dataset.\n",
    "    instances = dataset_train.select(column).take(num_instances)\n",
    "    # Process the instances.\n",
    "    for i in range(0, num_instances):\n",
    "        instance = instances[i]\n",
    "        instance = instance[column].toArray().reshape((28, 28))\n",
    "        instances[i] = instance\n",
    "\n",
    "    # Draw the sampled instances.\n",
    "    fig, axn = plt.subplots(y_dimension, x_dimension, sharex=True, sharey=True)\n",
    "    num_axn = len(axn.flat)\n",
    "    for i in range(0, num_axn):\n",
    "        ax = axn.flat[i]\n",
    "        h = sns.heatmap(instances[i], ax=ax)\n",
    "        h.set_yticks([])\n",
    "        h.set_xticks([])"
   ]
  },
  {
   "cell_type": "code",
   "execution_count": 12,
   "metadata": {
    "collapsed": false
   },
   "outputs": [
    {
     "data": {
      "image/png": "[encoded data removed]",
      "text/plain": [
       "<matplotlib.figure.Figure at 0x7f4d7468de50>"
      ]
     },
     "metadata": {},
     "output_type": "display_data"
    }
   ],
   "source": [
    "show_instances(\"features\")"
   ]
  },
  {
   "cell_type": "markdown",
   "metadata": {},
   "source": [
    "## Normalization\n",
    "\n",
    "In this Section, we will normalize the feature vectors between the 0 and 1 range."
   ]
  },
  {
   "cell_type": "code",
   "execution_count": 13,
   "metadata": {
    "collapsed": false
   },
   "outputs": [],
   "source": [
    "# Clear the dataset in the case you ran this cell before.\n",
    "dataset_train = dataset_train.select(\"features\", \"label\", \"label_encoded\")\n",
    "dataset_test = dataset_test.select(\"features\", \"label\", \"label_encoded\")\n",
    "# Allocate a MinMaxTransformer using Distributed Keras.\n",
    "# o_min -> original_minimum\n",
    "# n_min -> new_minimum\n",
    "transformer = MinMaxTransformer(n_min=0.0, n_max=1.0, \\\n",
    "                                o_min=0.0, o_max=250.0, \\\n",
    "                                input_col=\"features\", \\\n",
    "                                output_col=\"features_normalized\")\n",
    "# Transform the dataset.\n",
    "dataset_train = transformer.transform(dataset_train)\n",
    "dataset_test = transformer.transform(dataset_test)"
   ]
  },
  {
   "cell_type": "code",
   "execution_count": 14,
   "metadata": {
    "collapsed": false
   },
   "outputs": [
    {
     "data": {
      "image/png": "[encoded data removed]",
      "text/plain": [
       "<matplotlib.figure.Figure at 0x7f4d583a3050>"
      ]
     },
     "metadata": {},
     "output_type": "display_data"
    }
   ],
   "source": [
    "show_instances(\"features_normalized\")"
   ]
  },
  {
   "cell_type": "markdown",
   "metadata": {},
   "source": [
    "## Convolutions\n",
    "\n",
    "In order to make the dense vectors compatible with convolution operations in Keras, we add another column which contains the matrix form of these images. We provide a utility class (MatrixTransformer), which helps you with this."
   ]
  },
  {
   "cell_type": "code",
   "execution_count": 15,
   "metadata": {
    "collapsed": false
   },
   "outputs": [],
   "source": [
    "reshape_transformer = ReshapeTransformer(\"features_normalized\", \"matrix\", (28, 28, 1))\n",
    "dataset_train = reshape_transformer.transform(dataset_train)\n",
    "dataset_test = reshape_transformer.transform(dataset_test)"
   ]
  },
  {
   "cell_type": "markdown",
   "metadata": {},
   "source": [
    "## Model Development"
   ]
  },
  {
   "cell_type": "markdown",
   "metadata": {},
   "source": [
    "### Multilayer Perceptron"
   ]
  },
  {
   "cell_type": "code",
   "execution_count": 16,
   "metadata": {
    "collapsed": false
   },
   "outputs": [],
   "source": [
    "mlp = Sequential()\n",
    "mlp.add(Dense(1000, input_shape=(784,)))\n",
    "mlp.add(Activation('relu'))\n",
    "mlp.add(Dense(250))\n",
    "mlp.add(Activation('relu'))\n",
    "mlp.add(Dense(10))\n",
    "mlp.add(Activation('softmax'))"
   ]
  },
  {
   "cell_type": "code",
   "execution_count": 17,
   "metadata": {
    "collapsed": false
   },
   "outputs": [
    {
     "name": "stdout",
     "output_type": "stream",
     "text": [
      "____________________________________________________________________________________________________\n",
      "Layer (type)                     Output Shape          Param #     Connected to                     \n",
      "====================================================================================================\n",
      "dense_1 (Dense)                  (None, 1000)          785000      dense_input_1[0][0]              \n",
      "____________________________________________________________________________________________________\n",
      "activation_1 (Activation)        (None, 1000)          0           dense_1[0][0]                    \n",
      "____________________________________________________________________________________________________\n",
      "dense_2 (Dense)                  (None, 250)           250250      activation_1[0][0]               \n",
      "____________________________________________________________________________________________________\n",
      "activation_2 (Activation)        (None, 250)           0           dense_2[0][0]                    \n",
      "____________________________________________________________________________________________________\n",
      "dense_3 (Dense)                  (None, 10)            2510        activation_2[0][0]               \n",
      "____________________________________________________________________________________________________\n",
      "activation_3 (Activation)        (None, 10)            0           dense_3[0][0]                    \n",
      "====================================================================================================\n",
      "Total params: 1037760\n",
      "____________________________________________________________________________________________________\n"
     ]
    }
   ],
   "source": [
    "mlp.summary()"
   ]
  },
  {
   "cell_type": "code",
   "execution_count": 18,
   "metadata": {
    "collapsed": true
   },
   "outputs": [],
   "source": [
    "optimizer_mlp = 'adam'\n",
    "loss_mlp = 'categorical_crossentropy'"
   ]
  },
  {
   "cell_type": "markdown",
   "metadata": {},
   "source": [
    "### Convolutional network"
   ]
  },
  {
   "cell_type": "code",
   "execution_count": 19,
   "metadata": {
    "collapsed": false
   },
   "outputs": [],
   "source": [
    "# Taken from Keras MNIST example.\n",
    "\n",
    "# Declare model parameters.\n",
    "img_rows, img_cols = 28, 28\n",
    "# number of convolutional filters to use\n",
    "nb_filters = 32\n",
    "# size of pooling area for max pooling\n",
    "pool_size = (2, 2)\n",
    "# convolution kernel size\n",
    "kernel_size = (3, 3)\n",
    "input_shape = (img_rows, img_cols, 1)\n",
    "\n",
    "# Construct the model.\n",
    "convnet = Sequential()\n",
    "convnet.add(Convolution2D(nb_filters, kernel_size[0], kernel_size[1],\n",
    "                          border_mode='valid',\n",
    "                          input_shape=input_shape))\n",
    "convnet.add(Activation('relu'))\n",
    "convnet.add(Convolution2D(nb_filters, kernel_size[0], kernel_size[1]))\n",
    "convnet.add(Activation('relu'))\n",
    "convnet.add(MaxPooling2D(pool_size=pool_size))\n",
    "\n",
    "convnet.add(Flatten())\n",
    "convnet.add(Dense(225))\n",
    "convnet.add(Activation('relu'))\n",
    "convnet.add(Dense(nb_classes))\n",
    "convnet.add(Activation('softmax'))"
   ]
  },
  {
   "cell_type": "code",
   "execution_count": 20,
   "metadata": {
    "collapsed": false
   },
   "outputs": [
    {
     "name": "stdout",
     "output_type": "stream",
     "text": [
      "____________________________________________________________________________________________________\n",
      "Layer (type)                     Output Shape          Param #     Connected to                     \n",
      "====================================================================================================\n",
      "convolution2d_1 (Convolution2D)  (None, 26, 26, 32)    320         convolution2d_input_1[0][0]      \n",
      "____________________________________________________________________________________________________\n",
      "activation_4 (Activation)        (None, 26, 26, 32)    0           convolution2d_1[0][0]            \n",
      "____________________________________________________________________________________________________\n",
      "convolution2d_2 (Convolution2D)  (None, 24, 24, 32)    9248        activation_4[0][0]               \n",
      "____________________________________________________________________________________________________\n",
      "activation_5 (Activation)        (None, 24, 24, 32)    0           convolution2d_2[0][0]            \n",
      "____________________________________________________________________________________________________\n",
      "maxpooling2d_1 (MaxPooling2D)    (None, 12, 12, 32)    0           activation_5[0][0]               \n",
      "____________________________________________________________________________________________________\n",
      "flatten_1 (Flatten)              (None, 4608)          0           maxpooling2d_1[0][0]             \n",
      "____________________________________________________________________________________________________\n",
      "dense_4 (Dense)                  (None, 225)           1037025     flatten_1[0][0]                  \n",
      "____________________________________________________________________________________________________\n",
      "activation_6 (Activation)        (None, 225)           0           dense_4[0][0]                    \n",
      "____________________________________________________________________________________________________\n",
      "dense_5 (Dense)                  (None, 10)            2260        activation_6[0][0]               \n",
      "____________________________________________________________________________________________________\n",
      "activation_7 (Activation)        (None, 10)            0           dense_5[0][0]                    \n",
      "====================================================================================================\n",
      "Total params: 1048853\n",
      "____________________________________________________________________________________________________\n"
     ]
    }
   ],
   "source": [
    "convnet.summary()"
   ]
  },
  {
   "cell_type": "code",
   "execution_count": 21,
   "metadata": {
    "collapsed": true
   },
   "outputs": [],
   "source": [
    "optimizer_convnet = 'adam'\n",
    "loss_convnet = 'categorical_crossentropy'"
   ]
  },
  {
   "cell_type": "markdown",
   "metadata": {},
   "source": [
    "## Evaluation\n",
    "\n",
    "We define a utility function which will compute the accuracy for us."
   ]
  },
  {
   "cell_type": "code",
   "execution_count": 22,
   "metadata": {
    "collapsed": true
   },
   "outputs": [],
   "source": [
    "def evaluate_accuracy(model, test_set, features=\"features_normalized_dense\"):\n",
    "    evaluator = AccuracyEvaluator(prediction_col=\"prediction_index\", label_col=\"label\")\n",
    "    predictor = ModelPredictor(keras_model=model, features_col=features)\n",
    "    transformer = LabelIndexTransformer(output_dim=nb_classes)\n",
    "    test_set = test_set.select(features, \"label\")\n",
    "    test_set = predictor.predict(test_set)\n",
    "    test_set = transformer.transform(test_set)\n",
    "    score = evaluator.evaluate(test_set)\n",
    "    \n",
    "    return score"
   ]
  },
  {
   "cell_type": "markdown",
   "metadata": {},
   "source": [
    "## Training"
   ]
  },
  {
   "cell_type": "code",
   "execution_count": 23,
   "metadata": {
    "collapsed": false
   },
   "outputs": [
    {
     "name": "stdout",
     "output_type": "stream",
     "text": [
      "root\n",
      " |-- features: vector (nullable = true)\n",
      " |-- label: long (nullable = true)\n",
      " |-- label_encoded: vector (nullable = true)\n",
      " |-- features_normalized: vector (nullable = true)\n",
      " |-- matrix: array (nullable = true)\n",
      " |    |-- element: array (containsNull = true)\n",
      " |    |    |-- element: array (containsNull = true)\n",
      " |    |    |    |-- element: double (containsNull = true)\n",
      "\n"
     ]
    }
   ],
   "source": [
    "dataset_train.printSchema()"
   ]
  },
  {
   "cell_type": "code",
   "execution_count": 24,
   "metadata": {
    "collapsed": true
   },
   "outputs": [],
   "source": [
    "dataset_train = dataset_train.select(\"features_normalized\", \"matrix\",\"label\", \"label_encoded\")\n",
    "dataset_test = dataset_test.select(\"features_normalized\", \"matrix\",\"label\", \"label_encoded\")"
   ]
  },
  {
   "cell_type": "code",
   "execution_count": 25,
   "metadata": {
    "collapsed": false
   },
   "outputs": [
    {
     "data": {
      "text/plain": [
       "DataFrame[features_normalized: vector, matrix: array<array<array<double>>>, label: bigint, label_encoded: vector, features_normalized_dense: vector]"
      ]
     },
     "execution_count": 25,
     "metadata": {},
     "output_type": "execute_result"
    }
   ],
   "source": [
    "dense_transformer = DenseTransformer(input_col=\"features_normalized\", output_col=\"features_normalized_dense\")\n",
    "dataset_train = dense_transformer.transform(dataset_train)\n",
    "dataset_test = dense_transformer.transform(dataset_test)\n",
    "dataset_train.repartition(num_workers)\n",
    "dataset_test.repartition(num_workers)"
   ]
  },
  {
   "cell_type": "code",
   "execution_count": 26,
   "metadata": {
    "collapsed": false
   },
   "outputs": [
    {
     "data": {
      "text/plain": [
       "DataFrame[features_normalized: vector, matrix: array<array<array<double>>>, label: bigint, label_encoded: vector, features_normalized_dense: vector]"
      ]
     },
     "execution_count": 26,
     "metadata": {},
     "output_type": "execute_result"
    }
   ],
   "source": [
    "# Assing the training and test set.\n",
    "training_set = dataset_train.repartition(num_workers)\n",
    "test_set = dataset_test.repartition(num_workers)\n",
    "# Cache them.\n",
    "training_set.cache()\n",
    "test_set.cache()"
   ]
  },
  {
   "cell_type": "code",
   "execution_count": 27,
   "metadata": {
    "collapsed": false
   },
   "outputs": [
    {
     "name": "stdout",
     "output_type": "stream",
     "text": [
      "60000\n"
     ]
    }
   ],
   "source": [
    "print(training_set.count())"
   ]
  },
  {
   "cell_type": "markdown",
   "metadata": {},
   "source": [
    "### DOWNPOUR (Multilayer Perceptron)"
   ]
  },
  {
   "cell_type": "code",
   "execution_count": 28,
   "metadata": {
    "collapsed": false
   },
   "outputs": [],
   "source": [
    "trainer = DOWNPOUR(keras_model=mlp, worker_optimizer=optimizer_mlp, loss=loss_mlp, num_workers=num_workers,\n",
    "                   batch_size=4, communication_window=5, num_epoch=1,\n",
    "                   features_col=\"features_normalized_dense\", label_col=\"label_encoded\")\n",
    "trained_model = trainer.train(training_set)"
   ]
  },
  {
   "cell_type": "code",
   "execution_count": 29,
   "metadata": {
    "collapsed": false
   },
   "outputs": [
    {
     "name": "stdout",
     "output_type": "stream",
     "text": [
      "Training time: 255.725538969\n",
      "Accuracy: 0.9648\n"
     ]
    }
   ],
   "source": [
    "print(\"Training time: \" + str(trainer.get_training_time()))\n",
    "print(\"Accuracy: \" + str(evaluate_accuracy(trained_model, test_set)))"
   ]
  },
  {
   "cell_type": "code",
   "execution_count": 30,
   "metadata": {
    "collapsed": false
   },
   "outputs": [
    {
     "data": {
      "text/plain": [
       "6016"
      ]
     },
     "execution_count": 30,
     "metadata": {},
     "output_type": "execute_result"
    }
   ],
   "source": [
    "trainer.parameter_server.num_updates"
   ]
  },
  {
   "cell_type": "markdown",
   "metadata": {},
   "source": [
    "### ADAG (MultiLayer Perceptron)"
   ]
  },
  {
   "cell_type": "code",
   "execution_count": 31,
   "metadata": {
    "collapsed": false
   },
   "outputs": [],
   "source": [
    "trainer = ADAG(keras_model=mlp, worker_optimizer=optimizer_mlp, loss=loss_mlp, num_workers=num_workers,\n",
    "               batch_size=4, communication_window=15, num_epoch=1,\n",
    "               features_col=\"features_normalized_dense\", label_col=\"label_encoded\")\n",
    "trained_model = trainer.train(training_set)"
   ]
  },
  {
   "cell_type": "code",
   "execution_count": 32,
   "metadata": {
    "collapsed": false
   },
   "outputs": [
    {
     "name": "stdout",
     "output_type": "stream",
     "text": [
      "Training time: 205.572702169\n",
      "Accuracy: 0.9743\n"
     ]
    }
   ],
   "source": [
    "print(\"Training time: \" + str(trainer.get_training_time()))\n",
    "print(\"Accuracy: \" + str(evaluate_accuracy(trained_model, test_set)))"
   ]
  },
  {
   "cell_type": "code",
   "execution_count": 33,
   "metadata": {
    "collapsed": false,
    "scrolled": true
   },
   "outputs": [
    {
     "data": {
      "text/plain": [
       "2016"
      ]
     },
     "execution_count": 33,
     "metadata": {},
     "output_type": "execute_result"
    }
   ],
   "source": [
    "trainer.parameter_server.num_updates"
   ]
  },
  {
   "cell_type": "markdown",
   "metadata": {},
   "source": [
    "### EASGD (MultiLayer Perceptron)"
   ]
  },
  {
   "cell_type": "code",
   "execution_count": 34,
   "metadata": {
    "collapsed": true
   },
   "outputs": [],
   "source": [
    "trainer = AEASGD(keras_model=mlp, worker_optimizer=optimizer_mlp, loss=loss_mlp, num_workers=num_workers,\n",
    "                 batch_size=4, communication_window=35, num_epoch=1, features_col=\"features_normalized_dense\",\n",
    "                 label_col=\"label_encoded\")\n",
    "trained_model = trainer.train(training_set)"
   ]
  },
  {
   "cell_type": "code",
   "execution_count": 35,
   "metadata": {
    "collapsed": false
   },
   "outputs": [
    {
     "name": "stdout",
     "output_type": "stream",
     "text": [
      "Training time: 83.1232581139\n",
      "Accuracy: 0.953\n"
     ]
    }
   ],
   "source": [
    "print(\"Training time: \" + str(trainer.get_training_time()))\n",
    "print(\"Accuracy: \" + str(evaluate_accuracy(trained_model, test_set)))"
   ]
  },
  {
   "cell_type": "code",
   "execution_count": 36,
   "metadata": {
    "collapsed": false
   },
   "outputs": [
    {
     "data": {
      "text/plain": [
       "841"
      ]
     },
     "execution_count": 36,
     "metadata": {},
     "output_type": "execute_result"
    }
   ],
   "source": [
    "trainer.parameter_server.num_updates"
   ]
  },
  {
   "cell_type": "markdown",
   "metadata": {},
   "source": [
    "### DOWNPOUR (Convolutional network)"
   ]
  },
  {
   "cell_type": "code",
   "execution_count": 37,
   "metadata": {
    "collapsed": false
   },
   "outputs": [],
   "source": [
    "trainer = DOWNPOUR(keras_model=convnet, worker_optimizer=optimizer_convnet, loss=loss_convnet,\n",
    "                   num_workers=num_workers, batch_size=4, communication_window=5,\n",
    "                   num_epoch=1, features_col=\"matrix\", label_col=\"label_encoded\")\n",
    "trainer.set_parallelism_factor(1)\n",
    "trained_model = trainer.train(training_set)"
   ]
  },
  {
   "cell_type": "code",
   "execution_count": 38,
   "metadata": {
    "collapsed": false
   },
   "outputs": [
    {
     "name": "stdout",
     "output_type": "stream",
     "text": [
      "Training time: 293.897193193\n",
      "Accuracy: 0.1135\n"
     ]
    }
   ],
   "source": [
    "print(\"Training time: \" + str(trainer.get_training_time()))\n",
    "print(\"Accuracy: \" + str(evaluate_accuracy(trained_model, test_set, \"matrix\")))"
   ]
  },
  {
   "cell_type": "code",
   "execution_count": 39,
   "metadata": {
    "collapsed": false
   },
   "outputs": [
    {
     "data": {
      "text/plain": [
       "6016"
      ]
     },
     "execution_count": 39,
     "metadata": {},
     "output_type": "execute_result"
    }
   ],
   "source": [
    "trainer.parameter_server.num_updates"
   ]
  },
  {
   "cell_type": "markdown",
   "metadata": {},
   "source": [
    "### ADAG (Convolutional network)"
   ]
  },
  {
   "cell_type": "code",
   "execution_count": 40,
   "metadata": {
    "collapsed": false
   },
   "outputs": [],
   "source": [
    "trainer = ADAG(keras_model=convnet, worker_optimizer=optimizer_convnet, loss=loss_convnet,\n",
    "               num_workers=num_workers, batch_size=15, communication_window=5, num_epoch=1,\n",
    "               features_col=\"matrix\", label_col=\"label_encoded\")\n",
    "trainer.set_parallelism_factor(1)\n",
    "trained_model = trainer.train(training_set)"
   ]
  },
  {
   "cell_type": "code",
   "execution_count": 41,
   "metadata": {
    "collapsed": false
   },
   "outputs": [
    {
     "name": "stdout",
     "output_type": "stream",
     "text": [
      "Training time: 99.4242179394\n",
      "Accuracy: 0.9807\n"
     ]
    }
   ],
   "source": [
    "print(\"Training time: \" + str(trainer.get_training_time()))\n",
    "print(\"Accuracy: \" + str(evaluate_accuracy(trained_model, test_set, \"matrix\")))"
   ]
  },
  {
   "cell_type": "code",
   "execution_count": 42,
   "metadata": {
    "collapsed": false,
    "scrolled": true
   },
   "outputs": [
    {
     "data": {
      "text/plain": [
       "1616"
      ]
     },
     "execution_count": 42,
     "metadata": {},
     "output_type": "execute_result"
    }
   ],
   "source": [
    "trainer.parameter_server.num_updates"
   ]
  },
  {
   "cell_type": "markdown",
   "metadata": {},
   "source": [
    "### EASGD (Convolutional network)"
   ]
  },
  {
   "cell_type": "code",
   "execution_count": 43,
   "metadata": {
    "collapsed": false
   },
   "outputs": [],
   "source": [
    "trainer = AEASGD(keras_model=convnet, worker_optimizer=optimizer_convnet, loss=loss_convnet, \n",
    "                 num_workers=num_workers, batch_size=35, communication_window=32, num_epoch=1,\n",
    "                 features_col=\"matrix\", label_col=\"label_encoded\")\n",
    "trained_model = trainer.train(training_set)"
   ]
  },
  {
   "cell_type": "code",
   "execution_count": 44,
   "metadata": {
    "collapsed": false
   },
   "outputs": [
    {
     "name": "stdout",
     "output_type": "stream",
     "text": [
      "Training time: 65.1024529934\n",
      "Accuracy: 0.9672\n"
     ]
    }
   ],
   "source": [
    "print(\"Training time: \" + str(trainer.get_training_time()))\n",
    "print(\"Accuracy: \" + str(evaluate_accuracy(trained_model, test_set, \"matrix\")))"
   ]
  },
  {
   "cell_type": "code",
   "execution_count": 45,
   "metadata": {
    "collapsed": false
   },
   "outputs": [
    {
     "data": {
      "text/plain": [
       "101"
      ]
     },
     "execution_count": 45,
     "metadata": {},
     "output_type": "execute_result"
    }
   ],
   "source": [
    "trainer.parameter_server.num_updates"
   ]
  },
  {
   "cell_type": "markdown",
   "metadata": {},
   "source": [
    "## Algorithm performance\n",
    "\n",
    "In this section we will be evaluating the models produced by the different distributed numerical optimizers. In this case we will be evaluating DOWNPOUR, which is a common method introduced by Dean et al., and ADAG (Asynchronous Distributed Adaptive Gradients), which is ours. The will be conducted in the following way: for every optimizer, we will run a training and evaluation run 20 times. When the results are collected we will draw some plots which include error-bars. This will give us "
   ]
  },
  {
   "cell_type": "code",
   "execution_count": 46,
   "metadata": {
    "collapsed": false
   },
   "outputs": [
    {
     "name": "stdout",
     "output_type": "stream",
     "text": [
      "DOWNPOUR Experiment 1: 0.9661\n",
      "DOWNPOUR Experiment 2: 0.9555\n",
      "DOWNPOUR Experiment 3: 0.965\n",
      "DOWNPOUR Experiment 4: 0.967\n",
      "DOWNPOUR Experiment 5: 0.9667\n",
      "ADAG Experiment 1: 0.9745\n",
      "ADAG Experiment 2: 0.9741\n",
      "ADAG Experiment 3: 0.9725\n",
      "ADAG Experiment 4: 0.9735\n",
      "ADAG Experiment 5: 0.975\n",
      "EASGD Experiment 1: 0.9417\n",
      "EASGD Experiment 2: 0.9468\n",
      "EASGD Experiment 3: 0.9504\n",
      "EASGD Experiment 4: 0.9466\n",
      "EASGD Experiment 5: 0.9583\n",
      "Sequential Experiment 1: 0.9661\n",
      "Sequential Experiment 2: 0.9643\n",
      "Sequential Experiment 3: 0.9609\n",
      "Sequential Experiment 4: 0.9629\n",
      "Sequential Experiment 5: 0.9609\n"
     ]
    }
   ],
   "source": [
    "# Define the number of experiments.\n",
    "num_experiments = 5\n",
    "# Define the result storage.\n",
    "results = {}\n",
    "results['downpour'] = {}\n",
    "results['downpour']['data'] = []\n",
    "results['downpour']['std_acc'] = 0\n",
    "results['downpour']['mean_acc'] = 0\n",
    "results['downpour']['std_time'] = 0\n",
    "results['downpour']['mean_time'] = 0\n",
    "results['downpour']['training_time'] = []\n",
    "results['adag'] = {}\n",
    "results['adag']['data'] = []\n",
    "results['adag']['std_acc'] = 0\n",
    "results['adag']['mean_acc'] = 0\n",
    "results['adag']['std_time'] = 0\n",
    "results['adag']['mean_time'] = 0\n",
    "results['adag']['training_time'] = []\n",
    "results['easgd'] = {}\n",
    "results['easgd']['data'] = []\n",
    "results['easgd']['std_acc'] = 0\n",
    "results['easgd']['mean_acc'] = 0\n",
    "results['easgd']['std_time'] = 0\n",
    "results['easgd']['mean_time'] = 0\n",
    "results['easgd']['training_time'] = []\n",
    "results['single'] = {}\n",
    "results['single']['data'] = []\n",
    "results['single']['std_acc'] = 0\n",
    "results['single']['mean_acc'] = 0\n",
    "results['single']['std_time'] = 0\n",
    "results['single']['mean_time'] = 0\n",
    "results['single']['training_time'] = []\n",
    "\n",
    "# Run the DOWNPOUR experiment.\n",
    "for i in range(0, num_experiments):\n",
    "    # Define the trainer.\n",
    "    trainer = DOWNPOUR(keras_model=mlp, worker_optimizer=optimizer_mlp, loss=loss_mlp, num_workers=num_workers,\n",
    "                       batch_size=4, communication_window=5, num_epoch=1, features_col=\"features_normalized_dense\",\n",
    "                       label_col=\"label_encoded\")\n",
    "    trained_model = trainer.train(training_set)\n",
    "    # Evaluate the trained model.\n",
    "    accuracy = evaluate_accuracy(trained_model, test_set)\n",
    "    training_time = trainer.get_training_time()\n",
    "    # Store the obtained result.\n",
    "    results['downpour']['data'].append(accuracy)\n",
    "    results['downpour']['training_time'].append(training_time)\n",
    "    # Print some debugging information during the experiments.\n",
    "    print(\"DOWNPOUR Experiment \" + str(i + 1) + \": \" + str(accuracy))\n",
    "\n",
    "# Run the ADAG experiment.\n",
    "for i in range(0, num_experiments):\n",
    "    # Define the trainer.\n",
    "    trainer = ADAG(keras_model=mlp, worker_optimizer=optimizer_mlp, loss=loss_mlp, num_workers=num_workers,\n",
    "                   batch_size=4, communication_window=15, num_epoch=1, features_col=\"features_normalized_dense\",\n",
    "                   label_col=\"label_encoded\")\n",
    "    trained_model = trainer.train(training_set)\n",
    "    # Evaluate the trained model.\n",
    "    accuracy = evaluate_accuracy(trained_model, test_set)\n",
    "    training_time = trainer.get_training_time()\n",
    "    # Store the obtained result.\n",
    "    results['adag']['data'].append(accuracy)\n",
    "    results['adag']['training_time'].append(training_time)\n",
    "    # Print some debugging information during the experiments.\n",
    "    print(\"ADAG Experiment \" + str(i + 1) + \": \" + str(accuracy))\n",
    "    \n",
    "# Run the AEASGD experiment.\n",
    "for i in range(0, num_experiments):\n",
    "    # Define the trainer.\n",
    "    trainer = AEASGD(keras_model=mlp, worker_optimizer=optimizer_mlp, loss=loss_mlp, num_workers=num_workers,\n",
    "                     batch_size=4, communication_window=35, num_epoch=1, features_col=\"features_normalized_dense\",\n",
    "                     label_col=\"label_encoded\")\n",
    "    trained_model = trainer.train(training_set)\n",
    "    # Evaluate the trained model.\n",
    "    accuracy = evaluate_accuracy(trained_model, test_set)\n",
    "    training_time = trainer.get_training_time()\n",
    "    # Store the obtained result.\n",
    "    results['easgd']['data'].append(accuracy)\n",
    "    results['easgd']['training_time'].append(training_time)\n",
    "    # Print some debugging information during the experiments.\n",
    "    print(\"EASGD Experiment \" + str(i + 1) + \": \" + str(accuracy))\n",
    "    \n",
    "# Run sequential experiment.\n",
    "for i in range(0, num_experiments):\n",
    "    # Define the trainer.\n",
    "    trainer = SingleTrainer(keras_model=mlp, worker_optimizer=optimizer_mlp, loss=loss_mlp, batch_size=4,\n",
    "                        num_epoch=1, features_col=\"features_normalized_dense\", label_col=\"label_encoded\")\n",
    "    trained_model = trainer.train(training_set)\n",
    "    # Evaluate the trained model.\n",
    "    accuracy = evaluate_accuracy(trained_model, test_set)\n",
    "    training_time = trainer.get_training_time()\n",
    "    # Store the obained result.\n",
    "    results['single']['data'].append(accuracy)\n",
    "    results['single']['training_time'].append(training_time)\n",
    "    # Print some debugging information during the experiments.\n",
    "    print(\"Sequential Experiment \" + str(i + 1) + \": \" + str(accuracy))"
   ]
  },
  {
   "cell_type": "code",
   "execution_count": 47,
   "metadata": {
    "collapsed": false
   },
   "outputs": [],
   "source": [
    "# Compute standard deviation and mean for every experiment.\n",
    "for k in results.keys():\n",
    "    results[k]['mean_acc'] = np.mean(results[k]['data'])\n",
    "    results[k]['std_acc'] = np.std(results[k]['data'])\n",
    "    results[k]['mean_time'] = np.mean(results[k]['training_time'])\n",
    "    results[k]['std_time'] = np.std(results[k]['training_time'])"
   ]
  },
  {
   "cell_type": "code",
   "execution_count": 48,
   "metadata": {
    "collapsed": false
   },
   "outputs": [
    {
     "data": {
      "image/png": "[encoded data removed]",
      "text/plain": [
       "<matplotlib.figure.Figure at 0x7f4d7490ba10>"
      ]
     },
     "metadata": {},
     "output_type": "display_data"
    }
   ],
   "source": [
    "# Retrieve an array of means and standard deviations of accuracy.\n",
    "means = []\n",
    "stds = []\n",
    "# Fetch the data from all the experiments.\n",
    "for k in results.keys():\n",
    "    mean = results[k]['mean_acc']\n",
    "    std = results[k]['std_acc']\n",
    "    means.append(mean)\n",
    "    stds.append(std)\n",
    "    \n",
    "# Plot the data.\n",
    "plt.figure()\n",
    "x = np.array([0, 1, 2, 3])\n",
    "plt.errorbar(x, means, xerr=0, yerr=stds, fmt='o')\n",
    "plt.title(\"Statistical performance produced by every optimization scheme.\")\n",
    "plt.xlim([-0.5,3.5])\n",
    "plt.ylim([0.94, 1])\n",
    "plt.xlabel(\"Optimization algorithm\")\n",
    "plt.ylabel(\"Accuracy\")\n",
    "keys = results.keys()\n",
    "# Keys to upper case.\n",
    "for i in range(0, len(keys)):\n",
    "    keys[i] = keys[i].upper()\n",
    "keys[0] = \"ADAM\"\n",
    "plt.xticks(range(len(keys)), keys)\n",
    "plt.show()"
   ]
  },
  {
   "cell_type": "code",
   "execution_count": 49,
   "metadata": {
    "collapsed": false
   },
   "outputs": [
    {
     "data": {
      "image/png": "[encoded data removed]",
      "text/plain": [
       "<matplotlib.figure.Figure at 0x7f4d7490bb50>"
      ]
     },
     "metadata": {},
     "output_type": "display_data"
    }
   ],
   "source": [
    "# Retrieve an array of means and standard deviations of training time.\n",
    "means = []\n",
    "stds = []\n",
    "# Fetch the data from all the experiments.\n",
    "for k in results.keys():\n",
    "    mean = results[k]['mean_time']\n",
    "    std = results[k]['std_time']\n",
    "    means.append(mean)\n",
    "    stds.append(std)\n",
    "    \n",
    "# Plot the data.\n",
    "plt.figure()\n",
    "x = np.array([0, 1, 2, 3])\n",
    "plt.errorbar(x, means, xerr=0, yerr=stds, fmt='o')\n",
    "plt.title(\"Mean training time and standard deviation for every optimization scheme.\")\n",
    "plt.xlim([-0.5,3.5])\n",
    "plt.ylabel(\"Seconds\")\n",
    "plt.xlabel(\"Optimization algorithm\")\n",
    "keys = results.keys()\n",
    "# Keys to upper case.\n",
    "for i in range(0, len(keys)):\n",
    "    keys[i] = keys[i].upper()\n",
    "keys[0] = \"ADAM\"\n",
    "plt.xticks(range(len(keys)), keys)\n",
    "plt.show()"
   ]
  },
  {
   "cell_type": "code",
   "execution_count": 50,
   "metadata": {
    "collapsed": false
   },
   "outputs": [
    {
     "name": "stdout",
     "output_type": "stream",
     "text": [
      "Mean training time single: 981.293788576 seconds\n",
      "Mean training time easgd: 89.6357789516 seconds\n",
      "Mean training time downpour: 251.395154858 seconds\n",
      "Mean training time adag: 136.838206625 seconds\n",
      "Mean accuracy single: 0.96302\n",
      "Mean accuracy easgd: 0.94876\n",
      "Mean accuracy downpour: 0.96406\n",
      "Mean accuracy adag: 0.97392\n"
     ]
    }
   ],
   "source": [
    "# Display the mean training time.\n",
    "for k in results.keys():\n",
    "    print(\"Mean training time \" + k + \": \" + str(results[k]['mean_time']) + \" seconds\")\n",
    "# Display the mean accuracy.\n",
    "for k in results.keys():\n",
    "    print(\"Mean accuracy \" + k + \": \" + str(results[k]['mean_acc']))"
   ]
  },
  {
   "cell_type": "markdown",
   "metadata": {},
   "source": [
    "Now, what is the influence of the communication window w.r.t. the optimization scheme?"
   ]
  },
  {
   "cell_type": "code",
   "execution_count": 62,
   "metadata": {
    "collapsed": false
   },
   "outputs": [
    {
     "name": "stdout",
     "output_type": "stream",
     "text": [
      "DOWNPOUR Experiment - CW: 5: 0.9648\n",
      "ADAG Experiment - CW: 5: 0.9728\n",
      "EASGD Experiment - CW: 5: 0.098\n",
      "DOWNPOUR Experiment - CW: 10: 0.9441\n",
      "ADAG Experiment - CW: 10: 0.9764\n",
      "EASGD Experiment - CW: 10: 0.098\n",
      "DOWNPOUR Experiment - CW: 15: 0.2932\n",
      "ADAG Experiment - CW: 15: 0.9729\n",
      "EASGD Experiment - CW: 15: 0.098\n",
      "DOWNPOUR Experiment - CW: 20: 0.0958\n",
      "ADAG Experiment - CW: 20: 0.9683\n",
      "EASGD Experiment - CW: 20: 0.098\n",
      "DOWNPOUR Experiment - CW: 25: 0.2697\n",
      "ADAG Experiment - CW: 25: 0.9659\n",
      "EASGD Experiment - CW: 25: 0.098\n",
      "DOWNPOUR Experiment - CW: 30: 0.0974\n",
      "ADAG Experiment - CW: 30: 0.9641\n",
      "EASGD Experiment - CW: 30: 0.1237\n",
      "DOWNPOUR Experiment - CW: 35: 0.0974\n",
      "ADAG Experiment - CW: 35: 0.9591\n",
      "EASGD Experiment - CW: 35: 0.9447\n",
      "DOWNPOUR Experiment - CW: 40: 0.6233\n",
      "ADAG Experiment - CW: 40: 0.9567\n",
      "EASGD Experiment - CW: 40: 0.9551\n",
      "DOWNPOUR Experiment - CW: 45: 0.1944\n",
      "ADAG Experiment - CW: 45: 0.9533\n",
      "EASGD Experiment - CW: 45: 0.9562\n",
      "DOWNPOUR Experiment - CW: 50: 0.1009\n",
      "ADAG Experiment - CW: 50: 0.9498\n",
      "EASGD Experiment - CW: 50: 0.9557\n"
     ]
    }
   ],
   "source": [
    "data = {}\n",
    "data['adag'] = {}\n",
    "data['adag']['training_time'] = []\n",
    "data['adag']['accuracy'] = []\n",
    "data['downpour'] = {}\n",
    "data['downpour']['training_time'] = []\n",
    "data['downpour']['accuracy'] = []\n",
    "data['easgd'] = {}\n",
    "data['easgd']['training_time'] = []\n",
    "data['easgd']['accuracy'] = []\n",
    "\n",
    "# Get the communication windows we need to evaluate.\n",
    "steps = np.arange(5,51,5)\n",
    "# Iterate through the number of communication windows.\n",
    "for communication_window in steps:\n",
    "    # Train with DOWNPOUR.\n",
    "    trainer = DOWNPOUR(keras_model=mlp, worker_optimizer=optimizer_mlp, loss=loss_mlp, num_workers=num_workers,\n",
    "                       batch_size=4, communication_window=communication_window, num_epoch=1,\n",
    "                       features_col=\"features_normalized_dense\", label_col=\"label_encoded\")\n",
    "    trained_model = trainer.train(training_set)\n",
    "    accuracy = evaluate_accuracy(trained_model, test_set)\n",
    "    training_time = trainer.get_training_time()\n",
    "    data['downpour']['accuracy'].append(accuracy)\n",
    "    data['downpour']['training_time'].append(training_time)\n",
    "    # Print some debugging information during the experiments.\n",
    "    print(\"DOWNPOUR Experiment - CW: \" + str(communication_window) + \": \" + str(accuracy))\n",
    "    # Train with ADAG.\n",
    "    trainer = ADAG(keras_model=mlp, worker_optimizer=optimizer_mlp, loss=loss_mlp, num_workers=num_workers,\n",
    "                   batch_size=4, communication_window=communication_window, num_epoch=1,\n",
    "                   features_col=\"features_normalized_dense\", label_col=\"label_encoded\")\n",
    "    trained_model = trainer.train(training_set)\n",
    "    accuracy = evaluate_accuracy(trained_model, test_set)\n",
    "    training_time = trainer.get_training_time()\n",
    "    data['adag']['accuracy'].append(accuracy)\n",
    "    data['adag']['training_time'].append(training_time)\n",
    "    print(\"ADAG Experiment - CW: \" + str(communication_window) + \": \" + str(accuracy))\n",
    "    # Train with asynchronous EASGD.\n",
    "    trainer = AEASGD(keras_model=mlp, worker_optimizer=optimizer_mlp, loss=loss_mlp, num_workers=num_workers,\n",
    "                     batch_size=4, communication_window=communication_window, num_epoch=1,\n",
    "                     features_col=\"features_normalized_dense\", label_col=\"label_encoded\")\n",
    "    trained_model = trainer.train(training_set)\n",
    "    accuracy = evaluate_accuracy(trained_model, test_set)\n",
    "    training_time = trainer.get_training_time()\n",
    "    data['easgd']['accuracy'].append(accuracy)\n",
    "    data['easgd']['training_time'].append(training_time)\n",
    "    print(\"EASGD Experiment - CW: \" + str(communication_window) + \": \" + str(accuracy))"
   ]
  },
  {
   "cell_type": "code",
   "execution_count": 63,
   "metadata": {
    "collapsed": false
   },
   "outputs": [
    {
     "data": {
      "text/plain": [
       "{'adag': {'accuracy': [0.9728,\n",
       "   0.9764,\n",
       "   0.9729,\n",
       "   0.9683,\n",
       "   0.9659,\n",
       "   0.9641,\n",
       "   0.9591,\n",
       "   0.9567,\n",
       "   0.9533,\n",
       "   0.9498],\n",
       "  'training_time': [273.56715297698975,\n",
       "   160.73704195022583,\n",
       "   226.32408690452576,\n",
       "   185.06962180137634,\n",
       "   134.71624612808228,\n",
       "   136.79502511024475,\n",
       "   131.40443205833435,\n",
       "   146.34377789497375,\n",
       "   97.70625400543213,\n",
       "   112.01330590248108]},\n",
       " 'downpour': {'accuracy': [0.9648,\n",
       "   0.9441,\n",
       "   0.2932,\n",
       "   0.0958,\n",
       "   0.2697,\n",
       "   0.0974,\n",
       "   0.0974,\n",
       "   0.6233,\n",
       "   0.1944,\n",
       "   0.1009],\n",
       "  'training_time': [254.24650406837463,\n",
       "   151.2333061695099,\n",
       "   154.501531124115,\n",
       "   187.71220993995667,\n",
       "   122.55487704277039,\n",
       "   128.13640999794006,\n",
       "   123.42443895339966,\n",
       "   147.44310593605042,\n",
       "   130.17740392684937,\n",
       "   107.02648305892944]},\n",
       " 'easgd': {'accuracy': [0.098,\n",
       "   0.098,\n",
       "   0.098,\n",
       "   0.098,\n",
       "   0.098,\n",
       "   0.1237,\n",
       "   0.9447,\n",
       "   0.9551,\n",
       "   0.9562,\n",
       "   0.9557],\n",
       "  'training_time': [231.40198707580566,\n",
       "   139.37972784042358,\n",
       "   192.55255699157715,\n",
       "   102.27903699874878,\n",
       "   112.65176820755005,\n",
       "   105.2666289806366,\n",
       "   114.94631886482239,\n",
       "   168.53256106376648,\n",
       "   77.8938500881195,\n",
       "   94.5767412185669]}}"
      ]
     },
     "execution_count": 63,
     "metadata": {},
     "output_type": "execute_result"
    }
   ],
   "source": [
    "data"
   ]
  },
  {
   "cell_type": "code",
   "execution_count": 83,
   "metadata": {
    "collapsed": false
   },
   "outputs": [
    {
     "data": {
      "image/png": "[encoded data removed]",
      "text/plain": [
       "<matplotlib.figure.Figure at 0x7f4c802006d0>"
      ]
     },
     "metadata": {},
     "output_type": "display_data"
    }
   ],
   "source": [
    "# Accuracy vs. communication window\n",
    "# Plot optimization schemes\n",
    "plt.plot(steps, data['adag']['accuracy'], label=\"ADAG\")\n",
    "plt.plot(steps, data['easgd']['accuracy'], label=\"EASGD\")\n",
    "plt.plot(steps, data['downpour']['accuracy'], label=\"DOWNPOUR\")\n",
    "plt.xlabel(\"Communication window\")\n",
    "plt.ylabel(\"Accuracy\")\n",
    "plt.title(\"Effect of the communication window on accuracy\")\n",
    "# Define the legend.\n",
    "plt.legend(bbox_to_anchor=(1.05, 1), loc=2, borderaxespad=0.)\n",
    "plt.show()"
   ]
  },
  {
   "cell_type": "code",
   "execution_count": 82,
   "metadata": {
    "collapsed": false
   },
   "outputs": [
    {
     "data": {
      "image/png": "[encoded data removed]",
      "text/plain": [
       "<matplotlib.figure.Figure at 0x7f4c803cbad0>"
      ]
     },
     "metadata": {},
     "output_type": "display_data"
    }
   ],
   "source": [
    "# Training time vs. communication window\n",
    "# Plot optimization schemes\n",
    "plt.plot(steps, data['adag']['training_time'], label=\"ADAG\")\n",
    "plt.plot(steps, data['easgd']['training_time'], label=\"EASGD\")\n",
    "plt.plot(steps, data['downpour']['training_time'], label=\"DOWNPOUR\")\n",
    "plt.xlabel(\"Communication window\")\n",
    "plt.ylabel(\"Training time (seconds)\")\n",
    "plt.title(\"Effect of the communication window on training time\")\n",
    "# Define the legend.\n",
    "plt.legend(bbox_to_anchor=(1.05, 1), loc=2, borderaxespad=0.)\n",
    "plt.show()"
   ]
  },
  {
   "cell_type": "code",
   "execution_count": null,
   "metadata": {
    "collapsed": true
   },
   "outputs": [],
   "source": []
  }
 ],
 "metadata": {
  "anaconda-cloud": {},
  "kernelspec": {
   "display_name": "Python [conda root]",
   "language": "python",
   "name": "conda-root-py"
  },
  "language_info": {
   "codemirror_mode": {
    "name": "ipython",
    "version": 2
   },
   "file_extension": ".py",
   "mimetype": "text/x-python",
   "name": "python",
   "nbconvert_exporter": "python",
   "pygments_lexer": "ipython2",
   "version": "2.7.12"
  }
 },
 "nbformat": 4,
 "nbformat_minor": 0
}
